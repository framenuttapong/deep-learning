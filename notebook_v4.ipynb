{
 "cells": [
  {
   "cell_type": "code",
   "execution_count": 1,
   "metadata": {},
   "outputs": [],
   "source": [
    "import matplotlib.pyplot as plt\n",
    "import numpy as np\n",
    "import tensorflow as tf\n",
    "from sklearn.model_selection import train_test_split"
   ]
  },
  {
   "attachments": {},
   "cell_type": "markdown",
   "metadata": {},
   "source": [
    "## Read in the Dataset"
   ]
  },
  {
   "cell_type": "code",
   "execution_count": 2,
   "metadata": {},
   "outputs": [
    {
     "name": "stdout",
     "output_type": "stream",
     "text": [
      "Found 3080 files belonging to 10 classes.\n"
     ]
    }
   ],
   "source": [
    "image_shape = (224, 224, 3)\n",
    "\n",
    "dataset = tf.keras.utils.image_dataset_from_directory(\n",
    "    directory=\"dataset/v4\",\n",
    "    image_size=image_shape[:2],\n",
    ")\n",
    "\n",
    "x, y = [], []\n",
    "for batch in dataset.take(-1):\n",
    "    images, labels = batch\n",
    "    x.append(images.numpy())\n",
    "    y.append(labels.numpy())\n",
    "\n",
    "x = np.concatenate(x)\n",
    "y = np.concatenate(y)"
   ]
  },
  {
   "cell_type": "code",
   "execution_count": 3,
   "metadata": {},
   "outputs": [
    {
     "data": {
      "text/plain": [
       "['Acral Lentiginous Melanoma',\n",
       " 'Beaus Line',\n",
       " 'Blue Finger',\n",
       " 'Clubbing',\n",
       " 'Healthy Nail',\n",
       " 'Koilonychia',\n",
       " 'Muehrckes Lines',\n",
       " 'Onychogryphosis',\n",
       " 'Pitting',\n",
       " 'Terry-s Nail']"
      ]
     },
     "execution_count": 3,
     "metadata": {},
     "output_type": "execute_result"
    }
   ],
   "source": [
    "dataset.class_names"
   ]
  },
  {
   "attachments": {},
   "cell_type": "markdown",
   "metadata": {},
   "source": [
    "## Split into Train/Validation/Test at 80/10/10 Ratio"
   ]
  },
  {
   "cell_type": "code",
   "execution_count": 4,
   "metadata": {},
   "outputs": [],
   "source": [
    "class_names = dataset.class_names\n",
    "num_classes = len(class_names)\n",
    "\n",
    "x_train, x_test, y_train, y_test = train_test_split(x, y, train_size=0.8, stratify=y)\n",
    "x_val, x_test, y_val, y_test = train_test_split(x_test, y_test, test_size=0.5, stratify=y_test)"
   ]
  },
  {
   "cell_type": "code",
   "execution_count": 5,
   "metadata": {},
   "outputs": [
    {
     "name": "stdout",
     "output_type": "stream",
     "text": [
      "total  : [357 218 292 373 358 260 159 329 312 422]\n",
      "y_train: [286 174 234 298 286 208 127 263 250 338]\n",
      "y_val  : [36 22 29 37 36 26 16 33 31 42]\n",
      "y_test : [35 22 29 38 36 26 16 33 31 42]\n"
     ]
    }
   ],
   "source": [
    "print(\n",
    "    f\"total  : {np.unique(y, return_counts=True)[1]}\\n\"\n",
    "    f\"y_train: {np.unique(y_train, return_counts=True)[1]}\\n\"\n",
    "    f\"y_val  : {np.unique(y_val, return_counts=True)[1]}\\n\"\n",
    "    f\"y_test : {np.unique(y_test, return_counts=True)[1]}\"\n",
    ")"
   ]
  },
  {
   "cell_type": "markdown",
   "metadata": {},
   "source": [
    "## Define Helpers"
   ]
  },
  {
   "cell_type": "code",
   "execution_count": 6,
   "metadata": {},
   "outputs": [],
   "source": [
    "def plot_loss_and_accuracy(history) -> None:\n",
    "    _, (ax1, ax2) = plt.subplots(1, 2, figsize=(16, 6))\n",
    "\n",
    "    ax1.set_title(\"Loss\")\n",
    "    ax1.plot(history.history[\"loss\"], label=\"Train\")\n",
    "    ax1.plot(history.history[\"val_loss\"], label=\"Validation\")\n",
    "    ax1.legend(loc=\"best\")\n",
    "\n",
    "    ax2.set_title(\"Accuracy\")\n",
    "    ax2.plot(history.history[\"accuracy\"], label=\"Train\")\n",
    "    ax2.plot(history.history[\"val_accuracy\"], label=\"Validation\")\n",
    "    ax2.legend(loc=\"best\")\n",
    "\n",
    "    plt.show()"
   ]
  },
  {
   "attachments": {},
   "cell_type": "markdown",
   "metadata": {},
   "source": [
    "## Data Augmentation"
   ]
  },
  {
   "cell_type": "code",
   "execution_count": null,
   "metadata": {},
   "outputs": [],
   "source": [
    "datagen = tf.keras.preprocessing.image.ImageDataGenerator(\n",
    "    rotation_range=10,  # degree\n",
    "    horizontal_flip=True,\n",
    "    vertical_flip=True,\n",
    ")\n",
    "\n",
    "datagen.fit(x_train)"
   ]
  },
  {
   "attachments": {},
   "cell_type": "markdown",
   "metadata": {},
   "source": [
    "## Train and Evaluate"
   ]
  },
  {
   "cell_type": "code",
   "execution_count": null,
   "metadata": {},
   "outputs": [
    {
     "name": "stdout",
     "output_type": "stream",
     "text": [
      "Downloading data from https://storage.googleapis.com/tensorflow/keras-applications/mobilenet_v3/weights_mobilenet_v3_large_224_1.0_float_no_top_v2.h5\n",
      "12683000/12683000 [==============================] - 2s 0us/step\n"
     ]
    }
   ],
   "source": [
    "base_model = tf.keras.applications.MobileNetV3Large(input_shape=image_shape, include_top=False)\n",
    "\n",
    "base_model.trainable = False"
   ]
  },
  {
   "cell_type": "code",
   "execution_count": null,
   "metadata": {},
   "outputs": [],
   "source": [
    "inputs = tf.keras.Input(shape=image_shape)\n",
    "\n",
    "x = base_model(inputs, training=False)\n",
    "x = tf.keras.layers.GlobalAveragePooling2D()(x)\n",
    "outputs = tf.keras.layers.Dense(num_classes, activation=\"softmax\")(x)\n",
    "\n",
    "model = tf.keras.Model(inputs, outputs)"
   ]
  },
  {
   "cell_type": "code",
   "execution_count": null,
   "metadata": {},
   "outputs": [],
   "source": [
    "optimizer = tf.keras.optimizers.Adam(learning_rate=6e-4)\n",
    "\n",
    "model.compile(optimizer, loss=\"sparse_categorical_crossentropy\", metrics=[\"accuracy\"])"
   ]
  },
  {
   "cell_type": "code",
   "execution_count": null,
   "metadata": {},
   "outputs": [
    {
     "name": "stdout",
     "output_type": "stream",
     "text": [
      "Epoch 1/5\n",
      "616/616 [==============================] - 63s 94ms/step - loss: 1.5869 - accuracy: 0.4692 - val_loss: 1.1300 - val_accuracy: 0.6331\n",
      "Epoch 2/5\n",
      "616/616 [==============================] - 60s 97ms/step - loss: 0.9701 - accuracy: 0.6847 - val_loss: 0.9313 - val_accuracy: 0.6883\n",
      "Epoch 3/5\n",
      "616/616 [==============================] - 60s 97ms/step - loss: 0.7714 - accuracy: 0.7553 - val_loss: 0.8398 - val_accuracy: 0.7045\n",
      "Epoch 4/5\n",
      "616/616 [==============================] - 60s 97ms/step - loss: 0.6663 - accuracy: 0.7922 - val_loss: 0.8215 - val_accuracy: 0.7532\n",
      "Epoch 5/5\n",
      "616/616 [==============================] - 58s 94ms/step - loss: 0.5848 - accuracy: 0.8157 - val_loss: 0.7498 - val_accuracy: 0.7370\n"
     ]
    }
   ],
   "source": [
    "batch_size = 4\n",
    "epochs = 5\n",
    "\n",
    "history = model.fit(datagen.flow(x_train, y_train, batch_size=batch_size),\n",
    "                    steps_per_epoch=x_train.shape[0] // batch_size, epochs=epochs,\n",
    "                    validation_data=(x_val, y_val))"
   ]
  },
  {
   "cell_type": "code",
   "execution_count": null,
   "metadata": {},
   "outputs": [
    {
     "name": "stdout",
     "output_type": "stream",
     "text": [
      "loss=0.7623, accuracy=0.7435\n"
     ]
    },
    {
     "data": {
      "image/png": "[encoded data removed]",
      "text/plain": [
       "<Figure size 1600x600 with 2 Axes>"
      ]
     },
     "metadata": {},
     "output_type": "display_data"
    }
   ],
   "source": [
    "loss, accuracy = model.evaluate(x_test, y_test, verbose=0)\n",
    "\n",
    "print(f\"{loss=:.4f}, {accuracy=:.4f}\")\n",
    "plot_loss_and_accuracy(history)"
   ]
  },
  {
   "attachments": {},
   "cell_type": "markdown",
   "metadata": {},
   "source": [
    "## Predict"
   ]
  },
  {
   "cell_type": "code",
   "execution_count": null,
   "metadata": {},
   "outputs": [],
   "source": [
    "ISSUES_MAPPING = {\n",
    "    \"Acral Lentiginous Melanoma\": \"Acral Lentiginous Melanoma (ALM) is a rare form of skin cancer.\",\n",
    "    \"Beaus Line\": \"Uncontrolled diabetes, peripheral vascular disease, zinc deficiency, illnesses associated with a high fever.\",\n",
    "    \"Blue Finger\": \"Insufficient oxygen in blood, cold environment.\",\n",
    "    \"Clubbing\": \"Lung or heart related diseases, mostly lung cancer.\",\n",
    "    \"Healthy Nail\": \"No cause. Your nail is healthy. Congratulations!\",\n",
    "    \"Koilonychia\": \"Too much or too low iron level, uncontrolled diabetes, heart disease, celiac disease, and celiac cancer.\",\n",
    "    \"Muehrckes Lines\": \"Lack of nutrients, kidney disease, liver disease, cancer after chemotherapy.\",\n",
    "    \"Onychogryphosis\": \"Foot trauma, fungal infection, autoimmune disease, peripheral vascular disease, ichthyosis.\",\n",
    "    \"Pitting\": \"Connective tissue disorders, autoimmune disease, genetic disorder.\",\n",
    "    \"Terry-s Nail\": \"Cirrhosis, heart failure, diabetes, kidney failure, viral hepatitis.\",\n",
    "}"
   ]
  },
  {
   "cell_type": "code",
   "execution_count": null,
   "metadata": {},
   "outputs": [],
   "source": [
    "def predict(img, top_n=3):\n",
    "    image = read_image(img) if isinstance(img, str) else img\n",
    "    result = make_prediction(image, top_n=top_n)\n",
    "    show_possible_health_issues(result)\n",
    "\n",
    "    plt.imshow(image.astype(\"uint8\"))\n",
    "    plt.show()\n",
    "\n",
    "\n",
    "def read_image(image_path):\n",
    "    image = tf.keras.utils.load_img(image_path, target_size=image_shape[:2])\n",
    "    return tf.keras.utils.img_to_array(image)\n",
    "\n",
    "\n",
    "def make_prediction(image, top_n=3):\n",
    "    [pred] = model.predict(np.expand_dims(image, axis=0), verbose=0)\n",
    "    return [(class_names[idx], pred[idx]) for idx in pred.argsort()[::-1]][:top_n]\n",
    "\n",
    "\n",
    "def show_possible_health_issues(result):\n",
    "    for nail_disease, prob in result:\n",
    "        print(f\"({prob * 100:.2f}%) {nail_disease}\")\n",
    "        print(f\"\\tPossible cause: {ISSUES_MAPPING.get(nail_disease)}\", end=\"\\n\\n\")"
   ]
  },
  {
   "cell_type": "code",
   "execution_count": null,
   "metadata": {},
   "outputs": [
    {
     "ename": "FileNotFoundError",
     "evalue": "[Errno 2] No such file or directory: 'test_images/beaus-line-01.jpg'",
     "output_type": "error",
     "traceback": [
      "\u001b[1;31m---------------------------------------------------------------------------\u001b[0m",
      "\u001b[1;31mFileNotFoundError\u001b[0m                         Traceback (most recent call last)",
      "Cell \u001b[1;32mIn[25], line 3\u001b[0m\n\u001b[0;32m      1\u001b[0m path \u001b[39m=\u001b[39m \u001b[39m\"\u001b[39m\u001b[39mtest_images/beaus-line-01.jpg\u001b[39m\u001b[39m\"\u001b[39m\n\u001b[1;32m----> 3\u001b[0m predict(path)\n",
      "Cell \u001b[1;32mIn[24], line 2\u001b[0m, in \u001b[0;36mpredict\u001b[1;34m(img, top_n)\u001b[0m\n\u001b[0;32m      1\u001b[0m \u001b[39mdef\u001b[39;00m \u001b[39mpredict\u001b[39m(img, top_n\u001b[39m=\u001b[39m\u001b[39m3\u001b[39m):\n\u001b[1;32m----> 2\u001b[0m     image \u001b[39m=\u001b[39m read_image(img) \u001b[39mif\u001b[39;00m \u001b[39misinstance\u001b[39m(img, \u001b[39mstr\u001b[39m) \u001b[39melse\u001b[39;00m img\n\u001b[0;32m      3\u001b[0m     result \u001b[39m=\u001b[39m make_prediction(image, top_n\u001b[39m=\u001b[39mtop_n)\n\u001b[0;32m      4\u001b[0m     show_possible_health_issues(result)\n",
      "Cell \u001b[1;32mIn[24], line 11\u001b[0m, in \u001b[0;36mread_image\u001b[1;34m(image_path)\u001b[0m\n\u001b[0;32m     10\u001b[0m \u001b[39mdef\u001b[39;00m \u001b[39mread_image\u001b[39m(image_path):\n\u001b[1;32m---> 11\u001b[0m     image \u001b[39m=\u001b[39m tf\u001b[39m.\u001b[39;49mkeras\u001b[39m.\u001b[39;49mutils\u001b[39m.\u001b[39;49mload_img(image_path, target_size\u001b[39m=\u001b[39;49mimage_shape[:\u001b[39m2\u001b[39;49m])\n\u001b[0;32m     12\u001b[0m     \u001b[39mreturn\u001b[39;00m tf\u001b[39m.\u001b[39mkeras\u001b[39m.\u001b[39mutils\u001b[39m.\u001b[39mimg_to_array(image)\n",
      "File \u001b[1;32mc:\\Users\\Asus\\anaconda3\\envs\\myenv\\lib\\site-packages\\keras\\utils\\image_utils.py:422\u001b[0m, in \u001b[0;36mload_img\u001b[1;34m(path, grayscale, color_mode, target_size, interpolation, keep_aspect_ratio)\u001b[0m\n\u001b[0;32m    420\u001b[0m     \u001b[39mif\u001b[39;00m \u001b[39misinstance\u001b[39m(path, pathlib\u001b[39m.\u001b[39mPath):\n\u001b[0;32m    421\u001b[0m         path \u001b[39m=\u001b[39m \u001b[39mstr\u001b[39m(path\u001b[39m.\u001b[39mresolve())\n\u001b[1;32m--> 422\u001b[0m     \u001b[39mwith\u001b[39;00m \u001b[39mopen\u001b[39;49m(path, \u001b[39m\"\u001b[39;49m\u001b[39mrb\u001b[39;49m\u001b[39m\"\u001b[39;49m) \u001b[39mas\u001b[39;00m f:\n\u001b[0;32m    423\u001b[0m         img \u001b[39m=\u001b[39m pil_image\u001b[39m.\u001b[39mopen(io\u001b[39m.\u001b[39mBytesIO(f\u001b[39m.\u001b[39mread()))\n\u001b[0;32m    424\u001b[0m \u001b[39melse\u001b[39;00m:\n",
      "\u001b[1;31mFileNotFoundError\u001b[0m: [Errno 2] No such file or directory: 'test_images/beaus-line-01.jpg'"
     ]
    }
   ],
   "source": [
    "path = \"test_images/beaus-line-01.jpg\"\n",
    "\n",
    "predict(path)"
   ]
  },
  {
   "attachments": {},
   "cell_type": "markdown",
   "metadata": {},
   "source": [
    "## Save and Load Model"
   ]
  },
  {
   "cell_type": "code",
   "execution_count": null,
   "metadata": {},
   "outputs": [],
   "source": [
    "model_path = \"saved_models/model_0.7597\""
   ]
  },
  {
   "cell_type": "code",
   "execution_count": null,
   "metadata": {},
   "outputs": [
    {
     "name": "stderr",
     "output_type": "stream",
     "text": [
      "WARNING:absl:Found untraced functions such as _jit_compiled_convolution_op, _jit_compiled_convolution_op, _jit_compiled_convolution_op, _jit_compiled_convolution_op, _jit_compiled_convolution_op while saving (showing 5 of 62). These functions will not be directly callable after loading.\n"
     ]
    },
    {
     "name": "stdout",
     "output_type": "stream",
     "text": [
      "INFO:tensorflow:Assets written to: saved_models/model_0.7597\\assets\n"
     ]
    },
    {
     "name": "stderr",
     "output_type": "stream",
     "text": [
      "INFO:tensorflow:Assets written to: saved_models/model_0.7597\\assets\n"
     ]
    }
   ],
   "source": [
    "model.save(model_path)"
   ]
  },
  {
   "cell_type": "code",
   "execution_count": null,
   "metadata": {},
   "outputs": [],
   "source": [
    "model = tf.keras.models.load_model(model_path)"
   ]
  }
 ],
 "metadata": {
  "kernelspec": {
   "display_name": "deep",
   "language": "python",
   "name": "python3"
  },
  "language_info": {
   "codemirror_mode": {
    "name": "ipython",
    "version": 3
   },
   "file_extension": ".py",
   "mimetype": "text/x-python",
   "name": "python",
   "nbconvert_exporter": "python",
   "pygments_lexer": "ipython3",
   "version": "3.9.16"
  },
  "orig_nbformat": 4,
  "vscode": {
   "interpreter": {
    "hash": "adadae48a9ce380f93fe67326ed8651dc792d1472430d63633981724a9edc534"
   }
  }
 },
 "nbformat": 4,
 "nbformat_minor": 2
}
